{
 "cells": [
  {
   "cell_type": "markdown",
   "id": "4a20fb4f-d4b1-4ba4-bbf9-31f6f02296d9",
   "metadata": {},
   "source": [
    "Write a Pandas program to multiple and divide two Pandas Series. \n",
    "Sample Series: [2, 4, 8, 10], [1, 3, 7, 9]"
   ]
  },
  {
   "cell_type": "code",
   "execution_count": 1,
   "id": "e53f9c00-9ec9-4b4b-8aca-8012c781db4b",
   "metadata": {},
   "outputs": [
    {
     "name": "stdout",
     "output_type": "stream",
     "text": [
      "Multiply two Series:\n",
      "0     2\n",
      "1    12\n",
      "2    56\n",
      "3    90\n",
      "dtype: int64\n",
      "Divide Series1 by Series2:\n",
      "0    2.000000\n",
      "1    1.333333\n",
      "2    1.142857\n",
      "3    1.111111\n",
      "dtype: float64\n"
     ]
    }
   ],
   "source": [
    "import pandas as pd \n",
    "ds1 = pd.Series([2, 4, 8, 10]) \n",
    "ds2 = pd.Series([1, 3, 7, 9]) \n",
    "print(\"Multiply two Series:\") \n",
    "ds = ds1 * ds2 \n",
    "print(ds) \n",
    "print(\"Divide Series1 by Series2:\") \n",
    "ds = ds1 / ds2 \n",
    "print(ds)"
   ]
  },
  {
   "cell_type": "markdown",
   "id": "fcf8bd8b-573d-4b14-8921-0e936affe04e",
   "metadata": {},
   "source": [
    "Write a Pandas program to convert a dictionary to a Pandas series. \n",
    "Sample dictionary: d1 = {'a': 100, 'b': 200, 'c':300}"
   ]
  },
  {
   "cell_type": "code",
   "execution_count": 2,
   "id": "2deb60dc-2efc-4fb5-b081-13fa0bc312af",
   "metadata": {},
   "outputs": [
    {
     "name": "stdout",
     "output_type": "stream",
     "text": [
      "Original dictionary:\n",
      "{'a': 100, 'b': 200, 'c': 300}\n",
      "Converted series:\n",
      "a    100\n",
      "b    200\n",
      "c    300\n",
      "dtype: int64\n"
     ]
    }
   ],
   "source": [
    "import pandas as pd \n",
    "d1 = {'a': 100, 'b': 200, 'c':300} \n",
    "print(\"Original dictionary:\") \n",
    "print(d1) \n",
    "new_series = pd.Series(d1) \n",
    "print(\"Converted series:\") \n",
    "print(new_series)"
   ]
  },
  {
   "cell_type": "markdown",
   "id": "5c77e5c9-296d-4c2f-b6bb-ee52ead2390a",
   "metadata": {},
   "source": [
    "Write a Pandas program to sort a given Series. \n",
    "400, 300.12,100, 200"
   ]
  },
  {
   "cell_type": "code",
   "execution_count": 3,
   "id": "27e3eeff-b7c5-4783-94ee-54e2c834fa38",
   "metadata": {},
   "outputs": [
    {
     "name": "stdout",
     "output_type": "stream",
     "text": [
      "Original Data Series:\n",
      "0    400.00\n",
      "1    300.12\n",
      "2    100.00\n",
      "3    200.00\n",
      "dtype: float64\n",
      "2    100.00\n",
      "3    200.00\n",
      "1    300.12\n",
      "0    400.00\n",
      "dtype: float64\n"
     ]
    }
   ],
   "source": [
    "import pandas as pd \n",
    "s = pd.Series([400, 300.12,100, 200]) \n",
    "print(\"Original Data Series:\") \n",
    "print(s) \n",
    "new_s = pd.Series(s).sort_values() \n",
    "print(new_s) "
   ]
  },
  {
   "cell_type": "markdown",
   "id": "b8973c87-7d97-4e24-9ec3-8786932fe2b8",
   "metadata": {},
   "source": [
    "Write a Pandas program to change the order of index of a given \n",
    "series. \n",
    "Original Data Series: \n",
    "A    \n",
    "B   \n",
    "C  \n",
    " 2 \n",
    " 2 \n",
    "  3 \n",
    "dtype: int64 \n",
    "Data Series after changing the order of index: \n",
    "B   \n",
    "A    \n",
    "C  \n",
    "1 \n",
    "  3 \n",
    "dtype: int64"
   ]
  },
  {
   "cell_type": "code",
   "execution_count": 4,
   "id": "f17100cd-4eb6-43ce-ae54-f5070d559c6b",
   "metadata": {},
   "outputs": [
    {
     "name": "stdout",
     "output_type": "stream",
     "text": [
      "Original Data Series:\n",
      "A    1\n",
      "B    2\n",
      "C    3\n",
      "dtype: int64\n",
      "Data Series after changing the order of index:\n",
      "B    2\n",
      "A    1\n",
      "C    3\n",
      "dtype: int64\n"
     ]
    }
   ],
   "source": [
    "import pandas as pd \n",
    "s = pd.Series(data = [1,2,3], index = ['A', 'B', 'C']) \n",
    "print(\"Original Data Series:\") \n",
    "print(s) \n",
    "s = s.reindex(index = ['B','A','C']) \n",
    "print(\"Data Series after changing the order of index:\") \n",
    "print(s)"
   ]
  },
  {
   "cell_type": "markdown",
   "id": "7605d3b9-5703-489a-a6c7-330e041bec70",
   "metadata": {},
   "source": [
    "Write a Pandas program to get the items which are not common of \n",
    "two given series. "
   ]
  },
  {
   "cell_type": "code",
   "execution_count": 5,
   "id": "5bad9463-7f4f-4393-987a-722506183e36",
   "metadata": {},
   "outputs": [
    {
     "name": "stdout",
     "output_type": "stream",
     "text": [
      "Original Series:\n",
      "sr1:\n",
      "0    1\n",
      "1    2\n",
      "2    3\n",
      "dtype: int64\n",
      "sr2:\n",
      "0    2\n",
      "1    3\n",
      "2    6\n",
      "dtype: int64\n",
      "\n",
      "Items of a given series not present in another given series:\n",
      "0    1\n",
      "3    6\n",
      "dtype: int64\n"
     ]
    }
   ],
   "source": [
    "import pandas as pd \n",
    "import numpy as np \n",
    "sr1 = pd.Series([1, 2, 3]) \n",
    "sr2 = pd.Series([2, 3, 6]) \n",
    "print(\"Original Series:\") \n",
    "print(\"sr1:\") \n",
    "print(sr1) \n",
    "print(\"sr2:\") \n",
    "print(sr2) \n",
    "print(\"\\nItems of a given series not present in another given series:\") \n",
    "sr11 = pd.Series(np.union1d(sr1, sr2)) \n",
    "sr22 = pd.Series(np.intersect1d(sr1, sr2)) \n",
    "result = sr11[~sr11.isin(sr22)] \n",
    "print(result) "
   ]
  },
  {
   "cell_type": "markdown",
   "id": "8f70128c-08dd-4c11-8c01-7c549579d588",
   "metadata": {},
   "source": [
    "Write a Pandas program to create and display a DataFrame from a \n",
    "specified dictionary with index labels.b"
   ]
  },
  {
   "cell_type": "code",
   "execution_count": 6,
   "id": "f6304c43-aa8a-4d7f-b340-8c1fc04ad848",
   "metadata": {},
   "outputs": [
    {
     "name": "stdout",
     "output_type": "stream",
     "text": [
      "         name  score\n",
      "NAME   Manish   12.5\n",
      "SCORE  Dhiraj    9.0\n"
     ]
    }
   ],
   "source": [
    "import pandas as pd \n",
    "import numpy as np \n",
    "exam_data  = {'name': ['Manish', 'Dhiraj'], \n",
    "'score': [12.5, 9]} \n",
    "labels = ['NAME', 'SCORE'] \n",
    "df = pd.DataFrame(exam_data , index=labels) \n",
    "print(df)"
   ]
  },
  {
   "cell_type": "markdown",
   "id": "8bc4a537-856c-47ff-9561-733ee934e2f5",
   "metadata": {},
   "source": [
    "Write a Pandas program to get the first 3 rows of a given \n",
    "DataFrame."
   ]
  },
  {
   "cell_type": "code",
   "execution_count": 7,
   "id": "37b21933-fdd7-4a86-b0e0-40dba5c4d5a9",
   "metadata": {},
   "outputs": [
    {
     "name": "stdout",
     "output_type": "stream",
     "text": [
      "First three rows of the data frame:\n",
      "     name  score\n",
      "0  Manish   12.5\n",
      "1  Dhiraj   91.0\n",
      "2     Man    2.5\n"
     ]
    }
   ],
   "source": [
    "import pandas as pd \n",
    "import numpy as np \n",
    "exam_data  = {'name': ['Manish', 'Dhiraj','Man', 'Dhir'], \n",
    "        'score': [12.5, 91,2.5, 9]} \n",
    "df = pd.DataFrame(exam_data ) \n",
    "print(\"First three rows of the data frame:\") \n",
    "print(df.iloc[:3])   #print(df.head(3)) "
   ]
  },
  {
   "cell_type": "markdown",
   "id": "de281344-2c1c-41b3-8310-ecf0509d36f4",
   "metadata": {},
   "source": [
    "Write a Pandas program to count the number of rows and columns \n",
    "of a DataFrame. "
   ]
  },
  {
   "cell_type": "code",
   "execution_count": 8,
   "id": "2a4a3d82-04f4-4a3a-a7b5-50acdf61d60b",
   "metadata": {},
   "outputs": [
    {
     "name": "stdout",
     "output_type": "stream",
     "text": [
      "Number of Rows: 4\n",
      "Number of Columns: 2\n"
     ]
    }
   ],
   "source": [
    "import pandas as pd \n",
    "import numpy as np \n",
    "exam_data  = {'name': ['Manish', 'Dhiraj','Man', 'Dhir'], \n",
    "        'score': [12.5, 91,2.5, 9]} \n",
    "df = pd.DataFrame(exam_data ) \n",
    "total_rows=len(df.axes[0]) \n",
    "total_cols=len(df.axes[1]) \n",
    "print(\"Number of Rows: \"+str(total_rows)) \n",
    "print(\"Number of Columns: \"+str(total_cols))"
   ]
  },
  {
   "cell_type": "markdown",
   "id": "9aa80108-4ab5-466c-97c5-456d9bc44993",
   "metadata": {},
   "source": [
    "Write a Pandas program to select the rows the score is between 15 \n",
    "and 20 (inclusive) "
   ]
  },
  {
   "cell_type": "code",
   "execution_count": 9,
   "id": "7673ed53-6a3e-4d0c-9c7c-2f6d4bfb39ac",
   "metadata": {},
   "outputs": [
    {
     "name": "stdout",
     "output_type": "stream",
     "text": [
      "Rows where score between 15 and 20 (inclusive):\n",
      "   name  score\n",
      "3  Dhir   19.0\n"
     ]
    }
   ],
   "source": [
    "import pandas as pd \n",
    "import numpy as np \n",
    "exam_data  = {'name': ['Manish', 'Dhiraj','Man', 'Dhir'], \n",
    "        'score': [12.5, 91,20.5, 19]} \n",
    "df = pd.DataFrame(exam_data ) \n",
    "print(\"Rows where score between 15 and 20 (inclusive):\") \n",
    "print(df[df['score'].between(15, 20)]) \n"
   ]
  },
  {
   "cell_type": "markdown",
   "id": "d3e86c6c-452e-4584-a752-73a7fb4ae44a",
   "metadata": {},
   "source": [
    "Write a Pandas program to sort the DataFrame first by 'name' in \n",
    "descending order, then by 'score' in ascending order."
   ]
  },
  {
   "cell_type": "code",
   "execution_count": 10,
   "id": "a4bc03a8-6f2a-4bdd-97ce-ab4e48abd33d",
   "metadata": {
    "scrolled": true
   },
   "outputs": [
    {
     "name": "stdout",
     "output_type": "stream",
     "text": [
      "Sort the data frame first by ‘name’ in descending order, then by ‘score’ in ascending order:\n",
      "     name  score\n",
      "3    Dhir   19.0\n",
      "1  Dhiraj   91.0\n",
      "2     Man   20.5\n",
      "0  Manish   12.5\n"
     ]
    }
   ],
   "source": [
    "import pandas as pd \n",
    "import numpy as np \n",
    "exam_data  = {'name': ['Manish', 'Dhiraj','Man', 'Dhir'], \n",
    "        'score': [12.5, 91,20.5, 19]} \n",
    "df = pd.DataFrame(exam_data ) \n",
    "result_sort=df.sort_values(by=['name', 'score'], ascending=[True, \n",
    "True]) \n",
    "print(\"Sort the data frame first by ‘name’ in descending order, then by ‘score’ in ascending order:\") \n",
    "print(result_sort)"
   ]
  },
  {
   "cell_type": "markdown",
   "id": "7b54d67b-f739-419a-9910-1ce8d5800764",
   "metadata": {},
   "source": [
    "Write a Pandas program to change the name 'Manish' to 'Anish' in \n",
    "name column of the data frame."
   ]
  },
  {
   "cell_type": "code",
   "execution_count": 11,
   "id": "f7821003-cf5d-4d4e-a25d-7f1f1fae61b8",
   "metadata": {},
   "outputs": [
    {
     "name": "stdout",
     "output_type": "stream",
     "text": [
      "     name  score\n",
      "0   Anish   12.5\n",
      "1  Dhiraj   91.0\n",
      "2     Man   20.5\n",
      "3    Dhir   19.0\n"
     ]
    }
   ],
   "source": [
    "import pandas as pd \n",
    "import numpy as np \n",
    "exam_data  = {'name': ['Manish', 'Dhiraj','Man', 'Dhir'], \n",
    "        'score': [12.5, 91,20.5, 19]} \n",
    "df = pd.DataFrame(exam_data ) \n",
    "df['name'] = df['name'].replace('Manish', 'Anish') \n",
    "print(df) "
   ]
  },
  {
   "cell_type": "markdown",
   "id": "912cdb9f-74ca-42ef-b6de-7170ab7be605",
   "metadata": {},
   "source": [
    "Write a Pandas program to insert a new column in existing \n",
    "DataFrame."
   ]
  },
  {
   "cell_type": "code",
   "execution_count": 12,
   "id": "c8d459df-5076-40f2-9a2a-55e3e750da06",
   "metadata": {},
   "outputs": [
    {
     "name": "stdout",
     "output_type": "stream",
     "text": [
      "\n",
      "New DataFrame after inserting the 'medium' column\n",
      "     name  score   medium\n",
      "0  Manish   12.5  english\n",
      "1  Dhiraj   91.0    hindi\n",
      "2     Man   20.5    hindi\n",
      "3    Dhir   19.0  english\n"
     ]
    }
   ],
   "source": [
    "import pandas as pd \n",
    "import numpy as np \n",
    "exam_data  = {'name': ['Manish', 'Dhiraj','Man', 'Dhir'], \n",
    "        'score': [12.5, 91,20.5, 19]} \n",
    "df = pd.DataFrame(exam_data ) \n",
    "medium = ['english','hindi','hindi','english'] \n",
    "df['medium'] = medium \n",
    "print(\"\\nNew DataFrame after inserting the 'medium' column\") \n",
    "print(df)"
   ]
  },
  {
   "cell_type": "markdown",
   "id": "07c36a2a-a8aa-4a7f-af7f-520eb5f4f354",
   "metadata": {},
   "source": [
    "Write a Pandas program to rename columns of a given DataFrame. \n",
    "import pandas as pd "
   ]
  },
  {
   "cell_type": "code",
   "execution_count": 13,
   "id": "89f15cfe-72bb-4de9-801d-d53787ae8743",
   "metadata": {},
   "outputs": [
    {
     "name": "stdout",
     "output_type": "stream",
     "text": [
      "New DataFrame after renaming columns:\n",
      "     NAME  SCORE\n",
      "0  Manish   12.5\n",
      "1  Dhiraj   91.0\n",
      "2     Man   20.5\n",
      "3    Dhir   19.0\n"
     ]
    }
   ],
   "source": [
    "import numpy as np \n",
    "exam_data  = {'name': ['Manish', 'Dhiraj','Man', 'Dhir'], \n",
    "'score': [12.5, 91,20.5, 19]} \n",
    "df = pd.DataFrame(exam_data ) \n",
    "df = df.rename(columns={'name': 'NAME', 'score': 'SCORE'}) \n",
    "print(\"New DataFrame after renaming columns:\") \n",
    "print(df)"
   ]
  },
  {
   "cell_type": "code",
   "execution_count": null,
   "id": "af9f7975-c6af-45a1-b3ea-c38e50a6aef5",
   "metadata": {},
   "outputs": [],
   "source": []
  },
  {
   "cell_type": "code",
   "execution_count": null,
   "id": "0b865b16-8aa5-48ce-b4a7-21e712f3b148",
   "metadata": {},
   "outputs": [],
   "source": []
  },
  {
   "cell_type": "code",
   "execution_count": null,
   "id": "15dbf705-1254-4d35-a770-64bf561afbad",
   "metadata": {},
   "outputs": [],
   "source": []
  }
 ],
 "metadata": {
  "kernelspec": {
   "display_name": "Python 3 (ipykernel)",
   "language": "python",
   "name": "python3"
  },
  "language_info": {
   "codemirror_mode": {
    "name": "ipython",
    "version": 3
   },
   "file_extension": ".py",
   "mimetype": "text/x-python",
   "name": "python",
   "nbconvert_exporter": "python",
   "pygments_lexer": "ipython3",
   "version": "3.13.5"
  }
 },
 "nbformat": 4,
 "nbformat_minor": 5
}
