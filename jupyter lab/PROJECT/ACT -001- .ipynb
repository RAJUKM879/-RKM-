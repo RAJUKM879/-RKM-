{
 "cells": [
  {
   "cell_type": "code",
   "execution_count": 1,
   "id": "964fb24c-53eb-4f86-91b8-5aac7dbd7215",
   "metadata": {},
   "outputs": [],
   "source": [
    "# Jupyter Cell 1: Setup and Imports\n",
    "import mysql.connector\n",
    "import pandas as pd\n",
    "\n",
    "# Connect to MySQL and create DB & table\n",
    "def init_db():\n",
    "    conn = mysql.connector.connect(\n",
    "        host=\"localhost\",\n",
    "        user=\"root\",\n",
    "        password=\"\",  # Change if needed\n",
    "    )\n",
    "    cursor = conn.cursor()\n",
    "    cursor.execute(\"CREATE DATABASE IF NOT EXISTS ACT001\")\n",
    "    conn.database = \"ACT001\"\n",
    "    cursor.execute(\"\"\"\n",
    "        CREATE TABLE IF NOT EXISTS students (\n",
    "            id INT AUTO_INCREMENT PRIMARY KEY,\n",
    "            name VARCHAR(100),\n",
    "            age INT,\n",
    "            grade VARCHAR(10)\n",
    "        )\n",
    "    \"\"\")\n",
    "    conn.commit()\n",
    "    cursor.close()\n",
    "    conn.close()\n",
    "    print(\"Database and table ready.\")"
   ]
  },
  {
   "cell_type": "code",
   "execution_count": 2,
   "id": "8f1a1548-58c6-454e-8db4-aa75a6a5c586",
   "metadata": {},
   "outputs": [],
   "source": [
    "# Jupyter Cell 2: Insert from CSV\n",
    "def insert_from_csv(csv_path=\"users.csv\"):\n",
    "    conn = mysql.connector.connect(\n",
    "        host=\"localhost\",\n",
    "        user=\"root\",\n",
    "        password=\"\",\n",
    "        database=\"ACT001\"\n",
    "    )\n",
    "    cursor = conn.cursor()\n",
    "\n",
    "    try:\n",
    "        df = pd.read_csv(csv_path)\n",
    "        df.columns = df.columns.str.strip().str.lower()\n",
    "        for _, row in df.iterrows():\n",
    "            cursor.execute(\"INSERT INTO students (name, age, grade) VALUES (%s, %s, %s)\",\n",
    "                           (row['name'], int(row['age']), row['grade']))\n",
    "        conn.commit()\n",
    "        print(\"Data inserted from CSV.\")\n",
    "    except FileNotFoundError:\n",
    "        print(\"CSV file not found.\")\n",
    "    except Exception as e:\n",
    "        print(f\"Error: {e}\")\n",
    "    finally:\n",
    "        cursor.close()\n",
    "        conn.close()\n"
   ]
  },
  {
   "cell_type": "code",
   "execution_count": 3,
   "id": "7fa5dc40-54fb-4e47-a716-5fd241de7a5d",
   "metadata": {},
   "outputs": [],
   "source": [
    "# Jupyter Cell 3: Insert manually\n",
    "def insert_manual(name, age, grade):\n",
    "    conn = mysql.connector.connect(\n",
    "        host=\"localhost\",\n",
    "        user=\"root\",\n",
    "        password=\"\",\n",
    "        database=\"ACT001\"\n",
    "    )\n",
    "    cursor = conn.cursor()\n",
    "    cursor.execute(\"INSERT INTO students (name, age, grade) VALUES (%s, %s, %s)\", (name, age, grade))\n",
    "    conn.commit()\n",
    "    cursor.close()\n",
    "    conn.close()\n",
    "    print(\"Manual data inserted.\")"
   ]
  },
  {
   "cell_type": "code",
   "execution_count": 4,
   "id": "4b0c6038-65ea-44fb-b953-d444646854fe",
   "metadata": {},
   "outputs": [],
   "source": [
    "# Jupyter Cell 4: View data\n",
    "def view_students():\n",
    "    conn = mysql.connector.connect(\n",
    "        host=\"localhost\",\n",
    "        user=\"root\",\n",
    "        password=\"\",\n",
    "        database=\"ACT001\"\n",
    "    )\n",
    "    cursor = conn.cursor()\n",
    "    cursor.execute(\"SELECT * FROM students\")\n",
    "    for row in cursor.fetchall():\n",
    "        print(row)\n",
    "    cursor.close()\n",
    "    conn.close()\n"
   ]
  },
  {
   "cell_type": "markdown",
   "id": "6fb80d6a-d8b4-4bcc-a907-9cb252b6fc02",
   "metadata": {},
   "source": [
    "# Jupyter Cell 5: Flask Web UI (run in terminal or another environment, not in Jupyter)\n",
    "# Save as app.py and run using: flask run\n",
    "from flask import Flask, request, render_template_string\n",
    "\n",
    "app = Flask(__name__)\n",
    "\n",
    "html_form = '''\n",
    "<!doctype html>\n",
    "<title>Add Student</title>\n",
    "<h2>Enter Student Info</h2>\n",
    "<form method=post>\n",
    "  Name: <input type=text name=name><br>\n",
    "  Age: <input type=number name=age><br>\n",
    "  Grade: <input type=text name=grade><br>\n",
    "  <input type=submit value=Submit>\n",
    "</form>\n",
    "<hr>\n",
    "<h3>Students:</h3>\n",
    "<ul>\n",
    "  {% for s in students %}\n",
    "    <li>{{s[1]}} - {{s[2]}} years - Grade {{s[3]}}</li>\n",
    "  {% endfor %}\n",
    "</ul>\n",
    "'''\n",
    "\n",
    "@app.route('/', methods=['GET', 'POST'])\n",
    "def home():\n",
    "    conn = mysql.connector.connect(host=\"localhost\", user=\"root\", password=\"\", database=\"ACT001\")\n",
    "    cursor = conn.cursor()\n",
    "    if request.method == 'POST':\n",
    "        name = request.form['name']\n",
    "        age = int(request.form['age'])\n",
    "        grade = request.form['grade']\n",
    "        cursor.execute(\"INSERT INTO students (name, age, grade) VALUES (%s, %s, %s)\", (name, age, grade))\n",
    "        conn.commit()\n",
    "    cursor.execute(\"SELECT * FROM students\")\n",
    "    students = cursor.fetchall()\n",
    "    cursor.close()\n",
    "    conn.close()\n",
    "    return render_template_string(html_form, students=students)\n",
    "\n",
    "if __name__ == '__main__':\n",
    "    app.run(debug=True)\n"
   ]
  },
  {
   "cell_type": "code",
   "execution_count": 5,
   "id": "cd3f74ed-4c09-4c3d-9641-1373c5a1c093",
   "metadata": {},
   "outputs": [
    {
     "name": "stdout",
     "output_type": "stream",
     "text": [
      "Database and table ready.\n"
     ]
    }
   ],
   "source": [
    "# Jupyter Cell 6: Run init\n",
    "init_db()\n"
   ]
  },
  {
   "cell_type": "code",
   "execution_count": 6,
   "id": "8378c0b3-4e4d-466a-91cb-d3543d98e0ae",
   "metadata": {},
   "outputs": [],
   "source": [
    "from flask import Flask, render_template, request, redirect\n",
    "import mysql.connector\n"
   ]
  },
  {
   "cell_type": "code",
   "execution_count": 7,
   "id": "725900b2-b3a8-4cfb-81fa-63696773d38f",
   "metadata": {},
   "outputs": [
    {
     "name": "stdout",
     "output_type": "stream",
     "text": [
      "C:\\Program Files\\Python313\\python.exe\n",
      "C:\\Users\\rajuk\\AppData\\Local\\Programs\\Python\\Python314\\python.exe\n",
      "C:\\Users\\rajuk\\AppData\\Local\\Microsoft\\WindowsApps\\python.exe\n"
     ]
    }
   ],
   "source": [
    "!where python\n"
   ]
  },
  {
   "cell_type": "code",
   "execution_count": 8,
   "id": "99473546-60d3-4cac-a858-c4a20b5cd528",
   "metadata": {},
   "outputs": [
    {
     "name": "stdout",
     "output_type": "stream",
     "text": [
      "Python being used: C:\\Program Files\\Python313\\python.exe\n"
     ]
    }
   ],
   "source": [
    "import sys\n",
    "print(\"Python being used:\", sys.executable)\n"
   ]
  },
  {
   "cell_type": "code",
   "execution_count": null,
   "id": "db586dcb-5c7e-408e-835b-fd17ee21ea7c",
   "metadata": {},
   "outputs": [],
   "source": []
  }
 ],
 "metadata": {
  "kernelspec": {
   "display_name": "Python 3 (ipykernel)",
   "language": "python",
   "name": "python3"
  },
  "language_info": {
   "codemirror_mode": {
    "name": "ipython",
    "version": 3
   },
   "file_extension": ".py",
   "mimetype": "text/x-python",
   "name": "python",
   "nbconvert_exporter": "python",
   "pygments_lexer": "ipython3",
   "version": "3.13.5"
  }
 },
 "nbformat": 4,
 "nbformat_minor": 5
}
