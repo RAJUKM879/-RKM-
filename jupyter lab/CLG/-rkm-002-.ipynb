{
 "cells": [
  {
   "cell_type": "code",
   "execution_count": null,
   "id": "823ae981",
   "metadata": {},
   "outputs": [],
   "source": []
  },
  {
   "cell_type": "code",
   "execution_count": 1,
   "id": "f422d9c8",
   "metadata": {},
   "outputs": [
    {
     "name": "stdout",
     "output_type": "stream",
     "text": [
      "10\n"
     ]
    }
   ],
   "source": [
    "import numpy as np\n",
    "arr = np.array([1, 2, 3, 4])\n",
    "print(arr.sum()) "
   ]
  },
  {
   "cell_type": "code",
   "execution_count": 2,
   "id": "35bdb591",
   "metadata": {},
   "outputs": [
    {
     "name": "stdout",
     "output_type": "stream",
     "text": [
      "2.5\n"
     ]
    }
   ],
   "source": [
    "import numpy as np\n",
    "arr = np.array([1, 2, 3, 4])\n",
    "print(arr.mean()) "
   ]
  },
  {
   "cell_type": "code",
   "execution_count": 3,
   "id": "e075dcbe",
   "metadata": {},
   "outputs": [
    {
     "name": "stdout",
     "output_type": "stream",
     "text": [
      "1\n"
     ]
    }
   ],
   "source": [
    "import numpy as np\n",
    "arr = np.array([1, 2, 3, 4])\n",
    "print(arr.min())"
   ]
  },
  {
   "cell_type": "code",
   "execution_count": 4,
   "id": "768eb89f",
   "metadata": {},
   "outputs": [
    {
     "name": "stdout",
     "output_type": "stream",
     "text": [
      "4\n"
     ]
    }
   ],
   "source": [
    "import numpy as np\n",
    "arr = np.array([1, 2, 3, 4])\n",
    "print(arr.max()) "
   ]
  },
  {
   "cell_type": "code",
   "execution_count": 5,
   "id": "06b3b631",
   "metadata": {},
   "outputs": [
    {
     "name": "stdout",
     "output_type": "stream",
     "text": [
      "Input Array: \n",
      " [[14  4  6  0]\n",
      " [10  5 11  3]\n",
      " [ 9  8  9  5]\n",
      " [12 12  0  5]]\n",
      "largest number in x axis:  [14 11  9 12]\n",
      "largest number in y axis:  [14 12 11  5]\n"
     ]
    }
   ],
   "source": [
    "import numpy as np \n",
    "import random\n",
    "array = np.random.randint(16,size=(4,4)) \n",
    "print(\"Input Array: \\n\",array) \n",
    "print(\"largest number in x axis: \",np.max(array,axis=1)) \n",
    "print(\"largest number in y axis: \",np.max(array,axis=0))\n",
    "\n"
   ]
  },
  {
   "cell_type": "code",
   "execution_count": 6,
   "id": "9aff30b3",
   "metadata": {},
   "outputs": [
    {
     "name": "stdout",
     "output_type": "stream",
     "text": [
      "Input Array: \n",
      " [[ 5 13  4  6]\n",
      " [ 6  4  6 10]\n",
      " [ 1 11  2  4]\n",
      " [ 8 13  9 10]]\n",
      "Smallest number in x axis:  [4 4 1 8]\n",
      "Smallest number in y axis:  [1 4 2 4]\n"
     ]
    }
   ],
   "source": [
    "import numpy as np \n",
    "import random \n",
    "array = np.random.randint(16,size=(4,4)) \n",
    "print(\"Input Array: \\n\",array) \n",
    "\n",
    "print(\"Smallest number in x axis: \",np.min(array,axis=1)) \n",
    "print(\"Smallest number in y axis: \",np.min(array,axis=0))"
   ]
  },
  {
   "cell_type": "code",
   "execution_count": 7,
   "id": "6a975798",
   "metadata": {},
   "outputs": [
    {
     "name": "stdout",
     "output_type": "stream",
     "text": [
      "1.118033988749895\n"
     ]
    }
   ],
   "source": [
    "print(arr.std())  "
   ]
  },
  {
   "cell_type": "code",
   "execution_count": 8,
   "id": "a10d41c6",
   "metadata": {},
   "outputs": [
    {
     "name": "stdout",
     "output_type": "stream",
     "text": [
      "[ 0.84147098  0.90929743  0.14112001 -0.7568025 ]\n"
     ]
    }
   ],
   "source": [
    "\n",
    "\n",
    "\n",
    "print(np.sin(arr))  \n",
    "# Output: [0.84147098 0.90929743 0.14112001]"
   ]
  },
  {
   "cell_type": "code",
   "execution_count": 9,
   "id": "414e666b",
   "metadata": {},
   "outputs": [
    {
     "name": "stdout",
     "output_type": "stream",
     "text": [
      "[3 4 5]\n"
     ]
    }
   ],
   "source": [
    "arr = np.array([1, 2, 3])\n",
    "print(arr + 2)  \n",
    "# Output: [3 4 5]"
   ]
  },
  {
   "cell_type": "code",
   "execution_count": 10,
   "id": "8d154808",
   "metadata": {},
   "outputs": [
    {
     "name": "stdout",
     "output_type": "stream",
     "text": [
      "Squared using map: [np.int64(1), np.int64(4), np.int64(9)]\n"
     ]
    }
   ],
   "source": [
    "import numpy as np \n",
    "import random\n",
    "\n",
    "array = np.random.randint([1,2,3,4])\n",
    "squared = list(map(lambda x: x**2, arr))\n",
    "print(\"Squared using map:\", squared)\n",
    "#Example of map()\n"
   ]
  },
  {
   "cell_type": "code",
   "execution_count": 11,
   "id": "648a6922",
   "metadata": {},
   "outputs": [
    {
     "name": "stdout",
     "output_type": "stream",
     "text": [
      "[1, 4, 9, 16]\n"
     ]
    }
   ],
   "source": [
    "def square(number):\n",
    "    return number * number\n",
    "\n",
    "nums = [1, 2, 3, 4]\n",
    "squared_numbers = list(map(square, nums))\n",
    "\n",
    "print(squared_numbers)\n",
    "\n",
    "\n",
    "\n",
    "\n"
   ]
  },
  {
   "cell_type": "code",
   "execution_count": 12,
   "id": "cf47f224",
   "metadata": {},
   "outputs": [
    {
     "name": "stdout",
     "output_type": "stream",
     "text": [
      "[1, 4, 9, 16, 25, 36]\n"
     ]
    }
   ],
   "source": [
    "nums1= [1,2,3,4,5,6]\n",
    "squareOfnums1 = list(map(lambda n:n*n,nums1))\n",
    "print(squareOfnums1)"
   ]
  },
  {
   "cell_type": "code",
   "execution_count": 13,
   "id": "c8967f9f",
   "metadata": {},
   "outputs": [
    {
     "name": "stdout",
     "output_type": "stream",
     "text": [
      "[2, 4]\n"
     ]
    }
   ],
   "source": [
    "def is_even(n):\n",
    "    if n % 2 ==0:\n",
    "        return True\n",
    "    else:\n",
    "        return False\n",
    "    \n",
    "nums = [1,2,3,4]\n",
    "evens = list(filter(is_even,nums))\n",
    "print(evens)"
   ]
  },
  {
   "cell_type": "code",
   "execution_count": 14,
   "id": "eda41046",
   "metadata": {},
   "outputs": [
    {
     "name": "stdout",
     "output_type": "stream",
     "text": [
      "10\n"
     ]
    }
   ],
   "source": [
    "from functools import reduce\n",
    "\n",
    "def sum_all(a, b): \n",
    "    return a + b \n",
    "\n",
    "nums = [1, 2, 3, 4] \n",
    "total = reduce(sum_all, nums) \n",
    "\n",
    "print(total)\n"
   ]
  },
  {
   "cell_type": "code",
   "execution_count": 16,
   "id": "c33b7454",
   "metadata": {},
   "outputs": [
    {
     "name": "stdout",
     "output_type": "stream",
     "text": [
      "Sum using reduce: 6\n"
     ]
    }
   ],
   "source": [
    "total = reduce(lambda x, y: x + y, arr)\n",
    "print(\"Sum using reduce:\", total)\n"
   ]
  },
  {
   "cell_type": "code",
   "execution_count": 26,
   "id": "029c7445",
   "metadata": {},
   "outputs": [
    {
     "name": "stdout",
     "output_type": "stream",
     "text": [
      "a    10\n",
      "b    20\n",
      "c    30\n",
      "d    40\n",
      "dtype: int64\n"
     ]
    }
   ],
   "source": [
    "import pandas as pd\n",
    "data = pd.Series([10, 20, 30, 40], index=['a', 'b', 'c', 'd'])\n",
    "print(data)"
   ]
  },
  {
   "cell_type": "code",
   "execution_count": 27,
   "id": "4a480878",
   "metadata": {},
   "outputs": [
    {
     "name": "stdout",
     "output_type": "stream",
     "text": [
      "      Name  Age       City\n",
      "0    Alice   25      Delhi\n",
      "1      Bob   30     Mumbai\n",
      "2  Charlie   35  Bangalore\n"
     ]
    }
   ],
   "source": [
    "data = {\n",
    "    'Name': ['Alice', 'Bob', 'Charlie'],\n",
    "    'Age': [25, 30, 35],\n",
    "    'City': ['Delhi', 'Mumbai', 'Bangalore']\n",
    "}\n",
    "df = pd.DataFrame(data)\n",
    "print(df)"
   ]
  },
  {
   "cell_type": "code",
   "execution_count": 3,
   "id": "c31bf1c9",
   "metadata": {},
   "outputs": [
    {
     "name": "stdout",
     "output_type": "stream",
     "text": [
      "<class 'pandas.core.frame.DataFrame'>\n",
      "RangeIndex: 5 entries, 0 to 4\n",
      "Data columns (total 3 columns):\n",
      " #   Column  Non-Null Count  Dtype \n",
      "---  ------  --------------  ----- \n",
      " 0   Name    5 non-null      object\n",
      " 1   Age     5 non-null      int64 \n",
      " 2   City    5 non-null      object\n",
      "dtypes: int64(1), object(2)\n",
      "memory usage: 252.0+ bytes\n",
      "0      Alice\n",
      "1        Bob\n",
      "2    Charlie\n",
      "3      David\n",
      "4        Eva\n",
      "Name: Name, dtype: object\n",
      "Name       Alice\n",
      "Age           30\n",
      "City    New York\n",
      "Name: 0, dtype: object\n"
     ]
    }
   ],
   "source": [
    "import pandas as pd\n",
    "df = pd.read_csv('rkm-001.csv')\n",
    "\n",
    "\n",
    "df.to_csv('output.csv', index=False)\n",
    "\n",
    "df.head()         \n",
    "df.tail()         \n",
    "df.info()         \n",
    "df.describe()     \n",
    "df.columns        \n",
    "df.shape          \n",
    "\n",
    "\n",
    "\n",
    "\n",
    "print(df['Name'])\n",
    "\n",
    "print(df.loc[0])  "
   ]
  },
  {
   "cell_type": "code",
   "execution_count": null,
   "id": "231c2183",
   "metadata": {},
   "outputs": [],
   "source": []
  },
  {
   "cell_type": "code",
   "execution_count": null,
   "id": "fc269cc4",
   "metadata": {},
   "outputs": [],
   "source": []
  },
  {
   "cell_type": "code",
   "execution_count": null,
   "id": "e100666b",
   "metadata": {},
   "outputs": [],
   "source": []
  },
  {
   "cell_type": "code",
   "execution_count": null,
   "id": "d0c76600",
   "metadata": {},
   "outputs": [],
   "source": []
  },
  {
   "cell_type": "code",
   "execution_count": null,
   "id": "6f5b61bd",
   "metadata": {},
   "outputs": [],
   "source": []
  }
 ],
 "metadata": {
  "kernelspec": {
   "display_name": "Python 3",
   "language": "python",
   "name": "python3"
  },
  "language_info": {
   "codemirror_mode": {
    "name": "ipython",
    "version": 3
   },
   "file_extension": ".py",
   "mimetype": "text/x-python",
   "name": "python",
   "nbconvert_exporter": "python",
   "pygments_lexer": "ipython3",
   "version": "3.13.5"
  }
 },
 "nbformat": 4,
 "nbformat_minor": 5
}
