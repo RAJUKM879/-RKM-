{
 "cells": [
  {
   "cell_type": "code",
   "execution_count": null,
   "id": "34b49e29",
   "metadata": {},
   "outputs": [],
   "source": [
    "# # Cell 1: Load Iris Dataset\n",
    "import pandas as pd\n",
    "\n",
    "iris = pd.read_csv('/content/iris.csv', names=['sepal_length', 'sepal_width', 'petal_length', 'petal_width', 'class'])\n",
    "iris.tail()"
   ]
  },
  {
   "cell_type": "code",
   "execution_count": null,
   "id": "e9048e61",
   "metadata": {},
   "outputs": [],
   "source": [
    "# # Cell 2: Iris Dataset Summary\n",
    "iris.describe()"
   ]
  },
  {
   "cell_type": "code",
   "execution_count": null,
   "id": "0fd694d5",
   "metadata": {},
   "outputs": [],
   "source": [
    "# # Cell 3: Scatter Plot - Petal Length vs Petal Width\n",
    "import matplotlib.pyplot as plt\n",
    "\n",
    "x = iris['petal_length']\n",
    "y = iris['petal_width']\n",
    "plt.scatter(x, y)\n",
    "plt.title(\"Scatter Plot: Petal Length vs Petal Width\")\n",
    "plt.xlabel(\"Petal Length\")\n",
    "plt.ylabel(\"Petal Width\")\n",
    "plt.grid(True)\n",
    "plt.show()"
   ]
  },
  {
   "cell_type": "code",
   "execution_count": null,
   "id": "93fab2fb",
   "metadata": {},
   "outputs": [],
   "source": [
    "# # Cell 4: Scatter Plot - Sepal Length vs Sepal Width\n",
    "fig, ax = plt.subplots()\n",
    "ax.scatter(iris['sepal_length'], iris['sepal_width'])\n",
    "ax.set_title('Iris Dataset: Sepal Dimensions')\n",
    "ax.set_xlabel('Sepal Length')\n",
    "ax.set_ylabel('Sepal Width')\n",
    "plt.grid(True)\n",
    "plt.show()"
   ]
  },
  {
   "cell_type": "code",
   "execution_count": null,
   "id": "69835e4b",
   "metadata": {},
   "outputs": [],
   "source": [
    "# # Cell 5: Color-coded Scatter Plot by Species\n",
    "colors = {'Iris-setosa': 'r', 'Iris-versicolor': 'g', 'Iris-virginica': 'b'}\n",
    "species_colors = iris['class'].map(colors)\n",
    "\n",
    "fig, ax = plt.subplots()\n",
    "ax.scatter(iris['sepal_length'], iris['sepal_width'], c=species_colors)\n",
    "ax.set_title(\"Scatter Plot: Sepal Length vs Width by Species\")\n",
    "ax.set_xlabel('Sepal Length')\n",
    "ax.set_ylabel('Sepal Width')\n",
    "plt.grid(True)\n",
    "plt.show()"
   ]
  },
  {
   "cell_type": "code",
   "execution_count": null,
   "id": "c629ede1",
   "metadata": {},
   "outputs": [],
   "source": [
    "# # Cell 6: Flower Count by Species\n",
    "species_counts = iris['class'].value_counts()\n",
    "plt.bar(species_counts.index, species_counts.values, color='lightblue')\n",
    "plt.title(\"Number of Flowers by Species\")\n",
    "plt.xlabel(\"Species\")\n",
    "plt.ylabel(\"Count\")\n",
    "plt.grid(axis='y')\n",
    "plt.show()"
   ]
  },
  {
   "cell_type": "code",
   "execution_count": null,
   "id": "c3fdfafe",
   "metadata": {},
   "outputs": [],
   "source": [
    "# # Cell 7: Distribution of Petal Length\n",
    "plt.hist(iris['petal_length'], bins=10, color='lightgreen', edgecolor='black')\n",
    "plt.title(\"Distribution of Petal Length\")\n",
    "plt.xlabel(\"Petal Length (cm)\")\n",
    "plt.ylabel(\"Frequency\")\n",
    "plt.grid(True)\n",
    "plt.show()"
   ]
  },
  {
   "cell_type": "code",
   "execution_count": null,
   "id": "cdc81fe3",
   "metadata": {},
   "outputs": [],
   "source": [
    "# # Cell 8: Box Plot - Petal Length by Species\n",
    "species = iris['class'].unique()\n",
    "data = [iris[iris['class'] == s]['petal_length'] for s in species]\n",
    "\n",
    "plt.boxplot(data, labels=species)\n",
    "plt.title(\"Petal Length by Species\")\n",
    "plt.xlabel(\"Species\")\n",
    "plt.ylabel(\"Petal Length (cm)\")\n",
    "plt.grid(True)\n",
    "plt.show()"
   ]
  },
  {
   "cell_type": "code",
   "execution_count": null,
   "id": "93ebb39c",
   "metadata": {},
   "outputs": [],
   "source": [
    "# # Cell 9: Petal Length vs Width Relationship\n",
    "plt.scatter(iris['petal_length'], iris['petal_width'], color='purple', alpha=0.6)\n",
    "plt.title(\"Petal Length vs Petal Width\")\n",
    "plt.xlabel(\"Petal Length (cm)\")\n",
    "plt.ylabel(\"Petal Width (cm)\")\n",
    "plt.grid(True)\n",
    "plt.show()"
   ]
  },
  {
   "cell_type": "code",
   "execution_count": null,
   "id": "e63a2b39",
   "metadata": {},
   "outputs": [],
   "source": [
    "# # Cell 10: Load mtcars Dataset\n",
    "df = pd.read_csv('/content/mtcars.csv')\n",
    "df.head()"
   ]
  },
  {
   "cell_type": "code",
   "execution_count": null,
   "id": "d7ac4bd5",
   "metadata": {},
   "outputs": [],
   "source": [
    "# # Cell 11: Scatter Plot - Car Weight vs MPG\n",
    "plt.scatter(df['wt'], df['mpg'])\n",
    "plt.title('Scatter Plot: Car Weight vs MPG')\n",
    "plt.xlabel('Weight (1000 lbs)')\n",
    "plt.ylabel('Miles per Gallon')\n",
    "plt.grid(True)\n",
    "plt.show()"
   ]
  },
  {
   "cell_type": "code",
   "execution_count": null,
   "id": "8af2819c",
   "metadata": {},
   "outputs": [],
   "source": [
    "# # Cell 12: Bar Plot - Transmission Types\n",
    "auto_count = (df['am'] == 0).sum()\n",
    "manual_count = (df['am'] == 1).sum()\n",
    "labels = ['Automatic', 'Manual']\n",
    "counts = [auto_count, manual_count]\n",
    "\n",
    "plt.bar(labels, counts, color=['orange', 'blue'])\n",
    "plt.title(\"Transmission Type Frequency\")\n",
    "plt.xlabel(\"Transmission Type\")\n",
    "plt.ylabel(\"Count\")\n",
    "plt.grid(axis='y')\n",
    "plt.show()"
   ]
  },
  {
   "cell_type": "code",
   "execution_count": null,
   "id": "9deb94b5",
   "metadata": {},
   "outputs": [],
   "source": [
    "# # Cell 13: Histogram of MPG\n",
    "plt.hist(df['mpg'], bins=8, color='skyblue', edgecolor='black')\n",
    "plt.title(\"Distribution of MPG\")\n",
    "plt.xlabel(\"Miles per Gallon\")\n",
    "plt.ylabel(\"Frequency\")\n",
    "plt.grid(True)\n",
    "plt.show()"
   ]
  },
  {
   "cell_type": "code",
   "execution_count": null,
   "id": "36feefbd",
   "metadata": {},
   "outputs": [],
   "source": [
    "# # Cell 14: Box Plot - MPG\n",
    "plt.boxplot(df['mpg'])\n",
    "plt.title(\"Box Plot of MPG\")\n",
    "plt.ylabel(\"Miles per Gallon\")\n",
    "plt.grid(True)\n",
    "plt.show()"
   ]
  },
  {
   "cell_type": "code",
   "execution_count": null,
   "id": "c9a93e2f",
   "metadata": {},
   "outputs": [],
   "source": [
    "# # Cell 15: MPG by Cylinders\n",
    "cylinders = sorted(df['cyl'].unique())\n",
    "data = [df[df['cyl'] == c]['mpg'] for c in cylinders]\n",
    "\n",
    "plt.boxplot(data, labels=cylinders)\n",
    "plt.title(\"MPG by Number of Cylinders\")\n",
    "plt.xlabel(\"Cylinders\")\n",
    "plt.ylabel(\"MPG\")\n",
    "plt.grid(True)\n",
    "plt.show()"
   ]
  },
  {
   "cell_type": "code",
   "execution_count": null,
   "id": "6197da80",
   "metadata": {},
   "outputs": [],
   "source": [
    "# # Cell 16: Cars by Gear Count\n",
    "gear_counts = df['gear'].value_counts().sort_index()\n",
    "\n",
    "plt.bar(gear_counts.index.astype(str), gear_counts.values, color='lightgreen')\n",
    "plt.title(\"Number of Cars by Gear\")\n",
    "plt.xlabel(\"Gear\")\n",
    "plt.ylabel(\"Count\")\n",
    "plt.grid(axis='y')\n",
    "plt.show()"
   ]
  },
  {
   "cell_type": "code",
   "execution_count": null,
   "id": "146aff38",
   "metadata": {},
   "outputs": [],
   "source": [
    "# # Cell 17: Cars by Cylinder Count\n",
    "cyl_counts = df['cyl'].value_counts().sort_index()\n",
    "\n",
    "plt.bar(cyl_counts.index.astype(str), cyl_counts.values, color='skyblue')\n",
    "plt.title(\"Number of Cars by Cylinder Count\")\n",
    "plt.xlabel(\"Cylinders\")\n",
    "plt.ylabel(\"Number of Cars\")\n",
    "plt.grid(axis='y')\n",
    "plt.show()"
   ]
  },
  {
   "cell_type": "code",
   "execution_count": null,
   "id": "b772e452",
   "metadata": {},
   "outputs": [],
   "source": [
    "# # Cell 18: Load Student Performance Dataset\n",
    "sp = pd.read_csv('/content/StudentsPerformance.csv')\n",
    "sp.head()"
   ]
  },
  {
   "cell_type": "code",
   "execution_count": null,
   "id": "1ab84460",
   "metadata": {},
   "outputs": [],
   "source": [
    "# # Cell 19: Gender Distribution\n",
    "gender_counts = sp['gender'].value_counts()\n",
    "plt.bar(gender_counts.index, gender_counts.values, color=['blue', 'pink'])\n",
    "plt.title(\"Student Count by Gender\")\n",
    "plt.xlabel(\"Gender\")\n",
    "plt.ylabel(\"Count\")\n",
    "plt.grid(axis='y')\n",
    "plt.show()"
   ]
  },
  {
   "cell_type": "code",
   "execution_count": null,
   "id": "4fec4d1a",
   "metadata": {},
   "outputs": [],
   "source": [
    "# # Cell 20: Math Score Distribution\n",
    "plt.hist(sp['math score'], bins=10, color='lightblue', edgecolor='black')\n",
    "plt.title(\"Math Score Distribution\")\n",
    "plt.xlabel(\"Math Score\")\n",
    "plt.ylabel(\"Number of Students\")\n",
    "plt.grid(True)\n",
    "plt.show()"
   ]
  },
  {
   "cell_type": "code",
   "execution_count": null,
   "id": "e57b1d84",
   "metadata": {},
   "outputs": [],
   "source": [
    "# # Cell 21: Math Scores by Gender (Box Plot)\n",
    "genders = sp['gender'].unique()\n",
    "data = [sp[sp['gender'] == g]['math score'] for g in genders]\n",
    "\n",
    "plt.boxplot(data, labels=genders)\n",
    "plt.title(\"Math Score by Gender\")\n",
    "plt.xlabel(\"Gender\")\n",
    "plt.ylabel(\"Math Score\")\n",
    "plt.grid(True)\n",
    "plt.show()"
   ]
  },
  {
   "cell_type": "code",
   "execution_count": null,
   "id": "556f0571",
   "metadata": {},
   "outputs": [],
   "source": [
    "# # Cell 22: Test Preparation Course Completion\n",
    "prep_counts = sp['test preparation course'].value_counts()\n",
    "plt.bar(prep_counts.index, prep_counts.values, color=['green', 'orange'])\n",
    "plt.title(\"Test Preparation Course Completion\")\n",
    "plt.xlabel(\"Course Status\")\n",
    "plt.ylabel(\"Count\")\n",
    "plt.grid(axis='y')\n",
    "plt.show()"
   ]
  },
  {
   "cell_type": "code",
   "execution_count": null,
   "id": "73b60227",
   "metadata": {},
   "outputs": [],
   "source": [
    "# # Cell 23: Reading vs Writing Score\n",
    "plt.scatter(sp['reading score'], sp['writing score'], color='purple', alpha=0.5)\n",
    "plt.title(\"Reading vs Writing Score\")\n",
    "plt.xlabel(\"Reading Score\")\n",
    "plt.ylabel(\"Writing Score\")\n",
    "plt.grid(True)\n",
    "plt.show()"
   ]
  },
  {
   "cell_type": "code",
   "execution_count": null,
   "id": "ce3afe92",
   "metadata": {},
   "outputs": [],
   "source": [
    "# # Cell 24: Seaborn Box Plot Comparison\n",
    "import seaborn as sns\n",
    "import numpy as np\n",
    "\n",
    "data1 = np.random.normal(0, 1, 1000)\n",
    "data2 = np.random.normal(2, 1, 1000)\n",
    "\n",
    "sns.boxplot(data=[data1, data2])\n",
    "plt.xlabel(\"Distribution\")\n",
    "plt.ylabel(\"Value\")\n",
    "plt.title(\"Box Plot Comparison of Two Distributions\")\n",
    "plt.grid(True)\n",
    "plt.show()"
   ]
  }
 ],
 "metadata": {},
 "nbformat": 4,
 "nbformat_minor": 5
}
